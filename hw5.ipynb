{
 "cells": [
  {
   "cell_type": "markdown",
   "metadata": {},
   "source": [
    "### Introduction to Machine Learning HW5\n",
    "##### Wen-Yuh Su    UIN:671937912\n",
    "\n",
    "Question: Option3\n",
    "Dataset: [Kaggle Quora Competition](https://www.kaggle.com/c/quora-insincere-questions-classification/data) <br>\n",
    "Type: Natural Language Processing <br>\n",
    "Language: Python3 <br>\n",
    "Using Package: Pandas, Scikit-Learn, Keras <br>\n"
   ]
  },
  {
   "cell_type": "markdown",
   "metadata": {},
   "source": [
    "First of all, doing some data observations."
   ]
  },
  {
   "cell_type": "code",
   "execution_count": 3,
   "metadata": {},
   "outputs": [
    {
     "name": "stdout",
     "output_type": "stream",
     "text": [
      "{0: 1225312, 1: 80810}\n",
      "[1225312, 80810]\n"
     ]
    },
    {
     "data": {
      "image/png": "[encoded data removed]",
      "text/plain": [
       "<Figure size 432x288 with 1 Axes>"
      ]
     },
     "metadata": {
      "needs_background": "light"
     },
     "output_type": "display_data"
    }
   ],
   "source": [
    "import numpy as np\n",
    "import pandas as pd\n",
    "\n",
    "from keras.preprocessing.text import Tokenizer\n",
    "\n",
    "from sklearn.feature_extraction.text import TfidfVectorizer\n",
    "from sklearn.model_selection import train_test_split\n",
    "\n",
    "from nltk.corpus import stopwords\n",
    "\n",
    "import os\n",
    "path = \"./all/\"\n",
    "\n",
    "raw_data = pd.read_csv(path + 'train.csv', encoding='utf-8')\n",
    "target_distribution = (raw_data.groupby(['target']).agg(['count']).to_dict())[(u'qid', 'count')]\n",
    "print(target_distribution)\n",
    "\n",
    "width = 0.35\n",
    "\n",
    "import matplotlib.pyplot as plt\n",
    "labels = list(target_distribution.keys())\n",
    "values = list(target_distribution.values())\n",
    "\n",
    "print(values)\n",
    "\n",
    "p = plt.bar(labels, values, width)\n",
    "plt.ylabel('Counts')\n",
    "plt.xticks(labels, ('0', '1'))\n",
    "plt.show()"
   ]
  },
  {
   "cell_type": "markdown",
   "metadata": {},
   "source": [
    "It is an imbalance data. That makes sence because there would have that much toxic and divisive content on the platform."
   ]
  },
  {
   "cell_type": "code",
   "execution_count": 4,
   "metadata": {},
   "outputs": [
    {
     "name": "stdout",
     "output_type": "stream",
     "text": [
      "['How did Quebec nationalists see their province as a nation in the 1960s?'\n",
      " 'Do you have an adopted dog, how would you encourage people to adopt and not shop?'\n",
      " 'Why does velocity affect time? Does velocity affect space geometry?'\n",
      " 'How did Otto von Guericke used the Magdeburg hemispheres?'\n",
      " 'Can I convert montra helicon D to a mountain bike by just changing the tyres?']\n"
     ]
    }
   ],
   "source": [
    "import numpy as np\n",
    "import pandas as pd\n",
    "\n",
    "from keras.preprocessing.text import Tokenizer\n",
    "\n",
    "from sklearn.feature_extraction.text import TfidfVectorizer\n",
    "from sklearn.model_selection import train_test_split\n",
    "\n",
    "from nltk.corpus import stopwords\n",
    "\n",
    "import os\n",
    "path = \"./all/\"\n",
    "\n",
    "raw_data = pd.read_csv(path + 'train.csv', encoding='utf-8')\n",
    "raw_data_test = pd.read_csv(path + 'test.csv', encoding='utf-8')\n",
    "\n",
    "print(raw_data.question_text.head(5).values)"
   ]
  },
  {
   "cell_type": "markdown",
   "metadata": {},
   "source": [
    "As we can see that there are words with punctuation and uppercase, these would cause the model has difficulty to learn. Therefore, I remove the puctuation and let all words be lowercase, and include NLTK package which can remove some stop words such as \"the\" and \"a\" as well."
   ]
  },
  {
   "cell_type": "code",
   "execution_count": 6,
   "metadata": {},
   "outputs": [
    {
     "name": "stdout",
     "output_type": "stream",
     "text": [
      "Removing Punctuation and turning into lower case\n",
      "['quebec nationalists see province nation 1960s'\n",
      " 'adopted dog would encourage people adopt shop'\n",
      " 'velocity affect time velocity affect space geometry'\n",
      " 'otto von guericke used magdeburg hemispheres'\n",
      " 'convert montra helicon mountain bike changing tyres']\n"
     ]
    }
   ],
   "source": [
    "print(\"Removing Punctuation and turning into lower case\")\n",
    "stop = stopwords.words('english')\n",
    "\n",
    "raw_data['question_text'] = raw_data['question_text'].str.replace('[^\\w\\s]','')\n",
    "raw_data['question_text'] = raw_data['question_text'].apply(lambda x: \" \".join(x.lower() for x in x.split()))\n",
    "raw_data['question_text'] = raw_data['question_text'].apply(lambda x: \" \".join(x for x in x.split() if x not in stop))\n",
    "\n",
    "raw_data_test['question_text'] = raw_data_test['question_text'].str.replace('[^\\w\\s]','')\n",
    "raw_data_test['question_text'] = raw_data_test['question_text'].apply(lambda x: \" \".join(x for x in x.split() if x not in stop))\n",
    "raw_data_test['question_text'] = raw_data_test['question_text'].apply(lambda x: \" \".join(x.lower() for x in x.split()))\n",
    "\n",
    "print(raw_data.question_text.head(5).values)"
   ]
  },
  {
   "cell_type": "markdown",
   "metadata": {},
   "source": [
    "So far we can observe the effect of the data pre-processing. I have implemented two feature-selection method. One is TFIDF method, and the other is build word dictionary and find the index of the word, so I can use integer to represent a word."
   ]
  },
  {
   "cell_type": "code",
   "execution_count": 1,
   "metadata": {},
   "outputs": [
    {
     "name": "stderr",
     "output_type": "stream",
     "text": [
      "Using TensorFlow backend.\n",
      "/usr/local/Cellar/python/3.7.1/Frameworks/Python.framework/Versions/3.7/lib/python3.7/importlib/_bootstrap.py:219: RuntimeWarning: compiletime version 3.6 of module 'tensorflow.python.framework.fast_tensor_util' does not match runtime version 3.7\n",
      "  return f(*args, **kwds)\n"
     ]
    },
    {
     "name": "stdout",
     "output_type": "stream",
     "text": [
      "Without pre-processing\n",
      "(1306122, 3)\n",
      "Index(['qid', 'question_text', 'target'], dtype='object')\n",
      "0    How did Quebec nationalists see their province...\n",
      "1    Do you have an adopted dog, how would you enco...\n",
      "2    Why does velocity affect time? Does velocity a...\n",
      "3    How did Otto von Guericke used the Magdeburg h...\n",
      "4    Can I convert montra helicon D to a mountain b...\n",
      "Name: question_text, dtype: object\n",
      "calculate tokenize...\n",
      "Success finishing feature selection...\n",
      "Split data into validation data with same random state...\n",
      "Building Model\n",
      "0.821628864006125\n",
      "make predictions ...\n",
      "With pre-processing\n",
      "(1306122, 3)\n",
      "Index(['qid', 'question_text', 'target'], dtype='object')\n",
      "Removing Punctuation and turning into lower case\n",
      "0    how quebec nationalists see province nation 1960s\n",
      "1     do adopted dog would encourage people adopt shop\n",
      "2    why velocity affect time does velocity affect ...\n",
      "3     how otto von guericke used magdeburg hemispheres\n",
      "4    can i convert montra helicon d mountain bike c...\n",
      "Name: question_text, dtype: object\n",
      "calculate tokenize...\n",
      "Success finishing feature selection...\n",
      "Split data into validation data with same random state...\n",
      "Building Model\n",
      "0.8388515647430376\n",
      "make predictions ...\n"
     ]
    }
   ],
   "source": [
    "import numpy as np\n",
    "import pandas as pd\n",
    "import os\n",
    "import collections\n",
    "import matplotlib.pyplot as plt\n",
    "\n",
    "#local files\n",
    "import preprocess\n",
    "import models\n",
    "\n",
    "path = \"./all/\"\n",
    "\n",
    "### set parameters \n",
    "sentence_len = 70\n",
    "embedding_size=100\n",
    "\n",
    "print(\"Without pre-processing\")\n",
    "X_train, y_train, X_val, y_val, te_vec, vocab_size = preprocess.preprocessing_data(path=path, feature_selection=\"tokenize\", sentence_len = sentence_len, embedding_size = embedding_size, preprocess=False)\n",
    "pred_test_y = models.model('BernoulliNB', vocab_size=vocab_size, sentence_len=sentence_len, embedding_size=embedding_size, tr_vec=X_train, tr_ans=y_train, val_vec=X_val, val_ans=y_val ,te_vec=te_vec )\n",
    "\n",
    "print(\"With pre-processing\")\n",
    "X_train, y_train, X_val, y_val, te_vec, vocab_size = preprocess.preprocessing_data(path=path, feature_selection=\"tokenize\", sentence_len = sentence_len, embedding_size = embedding_size, preprocess=True)\n",
    "pred_test_y = models.model('BernoulliNB', vocab_size=vocab_size, sentence_len=sentence_len, embedding_size=embedding_size, tr_vec=X_train, tr_ans=y_train, val_vec=X_val, val_ans=y_val ,te_vec=te_vec )\n",
    "\n"
   ]
  },
  {
   "cell_type": "markdown",
   "metadata": {},
   "source": [
    "Then we try tf-idf feature-selection method."
   ]
  },
  {
   "cell_type": "code",
   "execution_count": 2,
   "metadata": {},
   "outputs": [
    {
     "name": "stdout",
     "output_type": "stream",
     "text": [
      "Without pre-processing\n",
      "(1306122, 3)\n",
      "Index(['qid', 'question_text', 'target'], dtype='object')\n",
      "0    How did Quebec nationalists see their province...\n",
      "1    Do you have an adopted dog, how would you enco...\n",
      "2    Why does velocity affect time? Does velocity a...\n",
      "3    How did Otto von Guericke used the Magdeburg h...\n",
      "4    Can I convert montra helicon D to a mountain b...\n",
      "Name: question_text, dtype: object\n",
      "calculate tokenize...\n",
      "Success finishing feature selection...\n",
      "Split data into validation data with same random state...\n",
      "Building Model\n",
      "0.9320049765527801\n",
      "make predictions ...\n",
      "With pre-processing\n",
      "(1306122, 3)\n",
      "Index(['qid', 'question_text', 'target'], dtype='object')\n",
      "Removing Punctuation and turning into lower case\n",
      "0    how quebec nationalists see province nation 1960s\n",
      "1     do adopted dog would encourage people adopt shop\n",
      "2    why velocity affect time does velocity affect ...\n",
      "3     how otto von guericke used magdeburg hemispheres\n",
      "4    can i convert montra helicon d mountain bike c...\n",
      "Name: question_text, dtype: object\n",
      "calculate tokenize...\n",
      "Success finishing feature selection...\n",
      "Split data into validation data with same random state...\n",
      "Building Model\n",
      "0.9424519092736147\n",
      "make predictions ...\n"
     ]
    }
   ],
   "source": [
    "print(\"Without pre-processing\")\n",
    "X_train, y_train, X_val, y_val, te_vec, vocab_size = preprocess.preprocessing_data(path=path, feature_selection=\"tfidf_tokenize\", sentence_len = sentence_len, embedding_size = embedding_size, preprocess=False)\n",
    "pred_test_y = models.model('BernoulliNB', vocab_size=vocab_size, sentence_len=sentence_len, embedding_size=embedding_size, tr_vec=X_train, tr_ans=y_train, val_vec=X_val, val_ans=y_val ,te_vec=te_vec )\n",
    "\n",
    "print(\"With pre-processing\")\n",
    "X_train, y_train, X_val, y_val, te_vec, vocab_size = preprocess.preprocessing_data(path=path, feature_selection=\"tfidf_tokenize\", sentence_len = sentence_len, embedding_size = embedding_size, preprocess=True)\n",
    "pred_test_y = models.model('BernoulliNB', vocab_size=vocab_size, sentence_len=sentence_len, embedding_size=embedding_size, tr_vec=X_train, tr_ans=y_train, val_vec=X_val, val_ans=y_val ,te_vec=te_vec )\n"
   ]
  },
  {
   "cell_type": "markdown",
   "metadata": {},
   "source": [
    "For the traditional model, I also implemented MultinomialNB, and SVM. However, they did not perform well in the language data. Thus, I started to search some deep learning method which most people discuss on the Kaggle. I chose the one that I have read called LSTM. It is famus on learning sequence data such as audio, language, and so on. <br>\n",
    "\n",
    "In order to use LSTM model, we have to decide how long the sequence is. Hence, I draw the sequence graph."
   ]
  },
  {
   "cell_type": "code",
   "execution_count": 5,
   "metadata": {},
   "outputs": [
    {
     "name": "stdout",
     "output_type": "stream",
     "text": [
      "Removing Punctuation and turning into lower case\n",
      "{1: 7073, 2: 57593, 3: 159307, 4: 211693, 5: 207119, 6: 166248, 7: 125388, 8: 91174, 9: 66543, 10: 50095, 11: 37735, 12: 29496, 13: 22820, 14: 17356, 15: 13047, 16: 9596, 17: 7388, 18: 5896, 19: 4860, 20: 4028, 21: 3405, 22: 2691, 23: 1965, 24: 1451, 25: 945, 26: 553, 27: 320, 28: 164, 29: 84, 30: 34, 31: 14, 32: 21, 33: 6, 34: 4, 35: 3, 36: 2, 37: 2, 38: 1, 40: 1, 77: 1}\n"
     ]
    },
    {
     "data": {
      "image/png": "[encoded data removed]",
      "text/plain": [
       "<Figure size 432x288 with 1 Axes>"
      ]
     },
     "metadata": {
      "needs_background": "light"
     },
     "output_type": "display_data"
    }
   ],
   "source": [
    "import re\n",
    "raw_data = pd.read_csv(path + 'train.csv', encoding='utf-8')\n",
    "raw_data_test = pd.read_csv(path + 'test.csv', encoding='utf-8')\n",
    "\n",
    "stop = stopwords.words('english')\n",
    "\n",
    "print(\"Removing Punctuation and turning into lower case\")\n",
    "raw_data['question_text'] = raw_data['question_text'].str.replace('[^\\w\\s]','')\n",
    "raw_data['question_text'] = raw_data['question_text'].apply(lambda x: \" \".join(x.lower() for x in x.split()))\n",
    "raw_data['question_text'] = raw_data['question_text'].apply(lambda x: \" \".join(x for x in x.split() if x not in stop))\n",
    "\n",
    "\n",
    "raw_data_test['question_text'] = raw_data_test['question_text'].str.replace('[^\\w\\s]','')\n",
    "raw_data_test['question_text'] = raw_data_test['question_text'].apply(lambda x: \" \".join(x for x in x.split() if x not in stop))\n",
    "raw_data_test['question_text'] = raw_data_test['question_text'].apply(lambda x: \" \".join(x.lower() for x in x.split()))\n",
    "\n",
    "\n",
    "\n",
    "\n",
    "question_len = []\n",
    "\n",
    "count = 0\n",
    "for i in (raw_data['question_text'].values):\n",
    "\tre.sub(r'[^\\x00-\\x7F]+',' ', i)\n",
    "\tquestion_len.append(len(i.split(' ')))\n",
    "\n",
    "pd = pd.Series(question_len)\n",
    "question_text_distribution = pd.groupby(pd.values).agg(['count']).to_dict()\n",
    "print(question_text_distribution['count'])\n",
    "\n",
    "width = 0.5\n",
    "\n",
    "import matplotlib.pyplot as plt\n",
    "labels = list(question_text_distribution['count'].keys())\n",
    "values = list(question_text_distribution['count'].values())\n",
    "\n",
    "\n",
    "p = plt.bar(labels, values, width)\n",
    "plt.ylabel('Counts')\n",
    "plt.xticks(labels)\n",
    "plt.show()"
   ]
  },
  {
   "cell_type": "markdown",
   "metadata": {},
   "source": [
    "The results shows that almost all the sentence is shorter than 70. So I can set sequence length equals to 70. Another important thing is that I used pad_sequences method in tokenize to let model learn better because when LSTM is learning, it is more important for data at back of the sequence. Since LSTM would forget some information, so if the sentence is not enough 70, we put 0 in front so that LSTM can learn better."
   ]
  },
  {
   "cell_type": "markdown",
   "metadata": {},
   "source": [
    "Based on the process above, we can start to run deep learning model. "
   ]
  },
  {
   "cell_type": "code",
   "execution_count": null,
   "metadata": {},
   "outputs": [],
   "source": [
    "path = \"all/\"\n",
    "\n",
    "### set parameters \n",
    "sentence_len = 70\n",
    "embedding_size=100\n",
    "\n",
    "X_train, y_train, X_val, y_val, te_vec, vocab_size = preprocess.preprocessing_data(path=path, feature_selection=\"tokenize\", sentence_len = sentence_len, embedding_size = embedding_size, preprocess=True)\n",
    "\n",
    "### build model\n",
    "pred_test_y = models.model('LSTM', vocab_size=vocab_size, sentence_len=sentence_len, embedding_size=embedding_size, tr_vec=X_train, tr_ans=y_train, val_vec=X_val, val_ans=y_val ,te_vec=te_vec )\n",
    "\n",
    "\n",
    "pred_test_y = models.model('SELFAttentive', vocab_size=vocab_size, sentence_len=sentence_len, embedding_size=embedding_size, tr_vec=X_train, tr_ans=y_train, val_vec=X_val, val_ans=y_val ,te_vec=te_vec )\n"
   ]
  },
  {
   "cell_type": "code",
   "execution_count": 9,
   "metadata": {},
   "outputs": [
    {
     "data": {
      "image/png": "[encoded data removed]",
      "text/plain": [
       "<Figure size 432x288 with 2 Axes>"
      ]
     },
     "metadata": {
      "needs_background": "light"
     },
     "output_type": "display_data"
    }
   ],
   "source": [
    "import matplotlib.pyplot as plt\n",
    "import numpy as np\n",
    "import matplotlib.mlab as mlab\n",
    "import matplotlib.gridspec as gridspec\n",
    "\n",
    "t = np.arange(1,6)\n",
    "\n",
    "\n",
    "r1 = [0.9512, 0.9588, 0.9661, 0.9726, 0.9783]\n",
    "r2 = [0.9547, 0.9563, 0.9515, 0.9507, 0.9476]\n",
    "\n",
    "s1 = [0.9420, 0.9562, 0.9669, 0.9745, 0.9783]\n",
    "s2 = [0.9488, 0.9510, 0.9537, 0.9514, 0.9476]\n",
    "\n",
    "def example_plot(ax,  data1, data2, t,title , fontsize=12):\n",
    "    ax.plot(t, data1, t, data2)\n",
    "    # ax.locator_params(nbins=3)\n",
    "    ax.legend(['train acc', 'test acc'])\n",
    "    ax.set_xlabel( \"Epoch\", fontsize=fontsize)\n",
    "    ax.set_ylabel( \"Accuracy\", fontsize=fontsize)\n",
    "    ax.set_title(title, fontsize=fontsize)\n",
    "\n",
    "fig, (ax1, ax2) = plt.subplots(nrows=2)\n",
    "example_plot(ax1, r1, r2, t, \"LSTM attention\", fontsize=12)\n",
    "example_plot(ax2, s1, s2, t, \"LSTM self attentive structure\" ,fontsize=12)\n",
    "plt.tight_layout()\n",
    "\n",
    "plt.show()\n"
   ]
  },
  {
   "cell_type": "markdown",
   "metadata": {},
   "source": [
    "According to the recorded the accuracy from kernel, I can find that through 2 epoch, the model start to overfit. Thus, it is useful to use validation data to verify whether our model is underfit or overfit."
   ]
  },
  {
   "cell_type": "markdown",
   "metadata": {},
   "source": [
    "For the deep learning model, it is tough to use my computer to get the results. Thus, I use the gpu kernal on the Kaggle, and so I did not save the model. About self attentive structure, I read paper and try to implement the model by myself. Nevertheless, I cannot make it beyond the LSTM model. Maybe I can try and make it better in the feature."
   ]
  },
  {
   "cell_type": "markdown",
   "metadata": {},
   "source": [
    "Last but not least, for the prediction, to decide how much threshold is to seperate data is another problem. I cannot figure out a great solution. Therefore, I refer the dicussion on the Kaggle. Some people used 0.5, and some used F1 measure to find out the best threshold. As a results, I just take 0.35 as threshold."
   ]
  },
  {
   "cell_type": "code",
   "execution_count": null,
   "metadata": {},
   "outputs": [],
   "source": []
  }
 ],
 "metadata": {
  "kernelspec": {
   "display_name": "Python 3",
   "language": "python",
   "name": "python3"
  },
  "language_info": {
   "codemirror_mode": {
    "name": "ipython",
    "version": 3
   },
   "file_extension": ".py",
   "mimetype": "text/x-python",
   "name": "python",
   "nbconvert_exporter": "python",
   "pygments_lexer": "ipython3",
   "version": "3.7.1"
  }
 },
 "nbformat": 4,
 "nbformat_minor": 2
}
